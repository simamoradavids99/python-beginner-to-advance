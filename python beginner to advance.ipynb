{
 "cells": [
  {
   "cell_type": "markdown",
   "metadata": {},
   "source": [
    "### variable declare and memory allocation\n"
   ]
  },
  {
   "cell_type": "code",
   "execution_count": 1,
   "metadata": {},
   "outputs": [
    {
     "name": "stdout",
     "output_type": "stream",
     "text": [
      "30\n",
      "<class 'int'> <class 'int'>\n",
      "1866427744 1866428064\n"
     ]
    }
   ],
   "source": [
    "#variable declare and memory allocation\n",
    "\n",
    "first_num = 10\n",
    "second_num = 20\n",
    "addition = first_num + second_num\n",
    "print(addition)\n",
    "\n",
    "#function\n",
    "#id\n",
    "#function\n",
    "a = 10\n",
    "b = 10\n",
    "\n",
    "print(type(first_num),type(second_num))\n",
    "print(id(first_num), id(second_num))\n",
    "\n"
   ]
  },
  {
   "cell_type": "markdown",
   "metadata": {},
   "source": [
    "1. variable name should start with lower case char\n",
    "2. digits are allowed but not at the start\n",
    "3. _ allowed"
   ]
  },
  {
   "cell_type": "code",
   "execution_count": 2,
   "metadata": {},
   "outputs": [
    {
     "name": "stdout",
     "output_type": "stream",
     "text": [
      "1866427744 1866427744\n"
     ]
    }
   ],
   "source": [
    "print(id(a),id(b))"
   ]
  },
  {
   "cell_type": "markdown",
   "metadata": {},
   "source": [
    "### Datatypes\n"
   ]
  },
  {
   "cell_type": "code",
   "execution_count": 3,
   "metadata": {},
   "outputs": [
    {
     "name": "stdout",
     "output_type": "stream",
     "text": [
      "<class 'int'>\n"
     ]
    }
   ],
   "source": [
    "#integer\n",
    "num1 = 100 \n",
    "print(type(num1))"
   ]
  },
  {
   "cell_type": "code",
   "execution_count": 4,
   "metadata": {},
   "outputs": [
    {
     "name": "stdout",
     "output_type": "stream",
     "text": [
      "<class 'float'>\n"
     ]
    }
   ],
   "source": [
    "#float\n",
    "num2 = 12.35\n",
    "print(type(num2))"
   ]
  },
  {
   "cell_type": "code",
   "execution_count": 5,
   "metadata": {},
   "outputs": [
    {
     "name": "stdout",
     "output_type": "stream",
     "text": [
      "1866430624\n",
      "1921909485048\n"
     ]
    }
   ],
   "source": [
    "#memory allocation\n",
    "print(id(num1))\n",
    "print(id(num2))"
   ]
  },
  {
   "cell_type": "markdown",
   "metadata": {},
   "source": [
    "integer and float are immutable data\n",
    "Immutable adalah tipe data yang tidak bisa diubah (string, bilangan, tuple) Mutable adalah tipe data yang bisa diubah (list dan dictionary) "
   ]
  },
  {
   "cell_type": "code",
   "execution_count": 6,
   "metadata": {},
   "outputs": [
    {
     "name": "stdout",
     "output_type": "stream",
     "text": [
      "Python <class 'str'>\n",
      "1921883509680\n",
      "1921927847984\n"
     ]
    }
   ],
   "source": [
    "#string '' \"\" \n",
    "s = \"Python\"\n",
    "print(s,type(s))\n",
    "print(id(s))\n",
    "\n",
    "s = \"new value\"\n",
    "print(id(s))"
   ]
  },
  {
   "cell_type": "code",
   "execution_count": 7,
   "metadata": {},
   "outputs": [
    {
     "name": "stdout",
     "output_type": "stream",
     "text": [
      "1921927679496\n",
      "[10, 20, 40, 50, 'django', 60]\n"
     ]
    }
   ],
   "source": [
    "#list -> mutable \n",
    "l = [10,20,30,40,50,\"django\"]\n",
    "print(id(l))\n",
    "l.append(60) # add element\n",
    "l.remove(40) # delete element\n",
    "l[2]= 40 # update element\n",
    "\n",
    "print(l)\n"
   ]
  },
  {
   "cell_type": "code",
   "execution_count": 8,
   "metadata": {},
   "outputs": [
    {
     "name": "stdout",
     "output_type": "stream",
     "text": [
      "<class 'tuple'>\n",
      "<class 'tuple'>\n",
      "1921927672168\n",
      "1921927655072\n"
     ]
    }
   ],
   "source": [
    "#tuple->immutalble\n",
    "t = (10, 20, 30)\n",
    "t2 = (10, 20, 30)\n",
    "print(type(t))\n",
    "print(type(t2))\n",
    "print(id(t))\n",
    "print(id(t2))"
   ]
  },
  {
   "cell_type": "code",
   "execution_count": 9,
   "metadata": {},
   "outputs": [
    {
     "name": "stdout",
     "output_type": "stream",
     "text": [
      "<class 'dict'>\n"
     ]
    }
   ],
   "source": [
    "#dictionary\n",
    "d = {\"name\":\"ABC\", \"email\":\"abc@gmail.com\"}\n",
    "print(type(d))"
   ]
  },
  {
   "cell_type": "code",
   "execution_count": 10,
   "metadata": {},
   "outputs": [
    {
     "name": "stdout",
     "output_type": "stream",
     "text": [
      "<class 'set'>\n"
     ]
    }
   ],
   "source": [
    "#set \n",
    "s = {10, 20, 30, 40}\n",
    "print(type(s))"
   ]
  },
  {
   "cell_type": "code",
   "execution_count": 11,
   "metadata": {},
   "outputs": [
    {
     "name": "stdout",
     "output_type": "stream",
     "text": [
      "False\n",
      "<class 'bool'>\n"
     ]
    }
   ],
   "source": [
    "#bool : true false \n",
    "c = 4==5\n",
    "print(c)\n",
    "print(type(c))"
   ]
  },
  {
   "cell_type": "code",
   "execution_count": 12,
   "metadata": {},
   "outputs": [
    {
     "name": "stdout",
     "output_type": "stream",
     "text": [
      "<class 'complex'>\n"
     ]
    }
   ],
   "source": [
    "a =  4 + 3j\n",
    "print(type(a))"
   ]
  },
  {
   "cell_type": "markdown",
   "metadata": {},
   "source": [
    "### Operators"
   ]
  },
  {
   "cell_type": "code",
   "execution_count": 13,
   "metadata": {},
   "outputs": [
    {
     "name": "stdout",
     "output_type": "stream",
     "text": [
      "30\n",
      "-10\n",
      "200\n",
      "0.5\n",
      "0\n",
      "10\n",
      "100000000000000000000\n"
     ]
    }
   ],
   "source": [
    "#aritmatik operations\n",
    "#contain : +,-,*,/,//,%,**\n",
    "\n",
    "num1 = 10\n",
    "num2 = 20\n",
    "\n",
    "print(num1 + num2) #additon\n",
    "print(num1 - num2) #substraction\n",
    "print(num1 * num2) #multiplication\n",
    "print(num1 / num2) #division\n",
    "print(num1 // num2)#floor divison\n",
    "print(num1 % num2) #modulus\n",
    "print(num1 ** num2) #exponenantion"
   ]
  },
  {
   "cell_type": "code",
   "execution_count": 14,
   "metadata": {},
   "outputs": [
    {
     "name": "stdout",
     "output_type": "stream",
     "text": [
      "False\n",
      "True\n",
      "True\n",
      "False\n",
      "False\n",
      "True\n"
     ]
    }
   ],
   "source": [
    "#comparison operators\n",
    "#contain <,>,<=,>=,==,!=\n",
    "\n",
    "print(num1 > num2) #bigger than\n",
    "print(num1 < num2) #ssmaller than\n",
    "print(num1 <= num2) #smaller and equal to\n",
    "print(num1 >= num2) #bigger and equals\n",
    "print(num1 == num2) #equals to\n",
    "print(num1 != num2) #not equal\n"
   ]
  },
  {
   "cell_type": "code",
   "execution_count": 15,
   "metadata": {},
   "outputs": [
    {
     "name": "stdout",
     "output_type": "stream",
     "text": [
      "True\n",
      "True\n",
      "False\n",
      "1921927978760\n",
      "1921927574344\n",
      "True\n"
     ]
    }
   ],
   "source": [
    "#identitiy operators\n",
    "#contains is, is not\n",
    "num1 = 100\n",
    "num2 = 100\n",
    "\n",
    "print(num1 == num2)\n",
    "print(num1 is num2)\n",
    "\n",
    "l1 = [10,20,30]\n",
    "l2 = [10,20,30]\n",
    "\n",
    "print(l1 is l2)\n",
    "\n",
    "print(id(l1))\n",
    "print(id(l2))\n",
    "\n",
    "#different because == compare the values and is compare the memori location\n",
    "print(l1 is not l2)\n",
    "\n"
   ]
  },
  {
   "cell_type": "code",
   "execution_count": 16,
   "metadata": {},
   "outputs": [
    {
     "name": "stdout",
     "output_type": "stream",
     "text": [
      "100\n",
      "95\n",
      "100\n",
      "500\n",
      "100\n"
     ]
    }
   ],
   "source": [
    "#Assignment operators\n",
    "#contain =, +=, -=, *=, /=\n",
    "\n",
    "num1 = 100 # assign value \n",
    "print(num1)\n",
    "num1 -= 5 # num1 = num1 - 5\n",
    "print(num1)\n",
    "num1 += 5 # num1 = num1 + 5\n",
    "print(num1)\n",
    "num1 *= 5 # num1 = num1 * 5\n",
    "print(num1)\n",
    "num1 //= 5 # num1 = num1 / 5\n",
    "print(num1)"
   ]
  },
  {
   "cell_type": "code",
   "execution_count": 17,
   "metadata": {},
   "outputs": [
    {
     "name": "stdout",
     "output_type": "stream",
     "text": [
      "0b10 0b1\n",
      "0\n",
      "3\n",
      "1\n",
      "4\n"
     ]
    }
   ],
   "source": [
    "#Bitwise opeator adalah operator khusus untuk menangani operasi logika bilangan biner dalam bentuk bit.\n",
    "#contain &(and),|(or),^(Xor),~(not)>>(right shift),<<(left shift)\n",
    "\n",
    "num1 = 2\n",
    "num2 = 1\n",
    "print(bin(num1),bin(num2))\n",
    "print(num1 & num2)\n",
    "print(num1 | num2)\n",
    "print(2 >> 1)\n",
    "print(2 << 1)\n"
   ]
  },
  {
   "cell_type": "code",
   "execution_count": 18,
   "metadata": {},
   "outputs": [
    {
     "name": "stdout",
     "output_type": "stream",
     "text": [
      "True\n",
      "True\n",
      "True\n"
     ]
    }
   ],
   "source": [
    "#logical operator \n",
    "#contain and or not\n",
    "\n",
    "print(10==10 and 20==20)\n",
    "#one cond is false other is false present false\n",
    "\n",
    "print(10==10 and 20==20)\n",
    "#one cond is false other is false present true\n",
    "\n",
    "print(not(10==15))"
   ]
  },
  {
   "cell_type": "code",
   "execution_count": 19,
   "metadata": {},
   "outputs": [
    {
     "name": "stdout",
     "output_type": "stream",
     "text": [
      "True\n",
      "False\n"
     ]
    }
   ],
   "source": [
    "#membership operators\n",
    "#contain in\n",
    "l = [10,20,30,40,50]\n",
    "print(30 in l)\n",
    "\n",
    "s = \"aku cinta kamu\"\n",
    "print(\"dia\" in s)"
   ]
  },
  {
   "cell_type": "markdown",
   "metadata": {},
   "source": [
    "### Conditional Statement | if elif else"
   ]
  },
  {
   "cell_type": "code",
   "execution_count": 20,
   "metadata": {},
   "outputs": [
    {
     "name": "stdout",
     "output_type": "stream",
     "text": [
      "Num1 is greater than num2\n",
      "Statement if in block\n"
     ]
    }
   ],
   "source": [
    "#syntax\n",
    "# if [condition]:\n",
    "#    statement\n",
    "#elif [condition]\n",
    "#else: \n",
    "#    statement\n",
    "\n",
    "num1 = 100\n",
    "num2 = 50\n",
    "\n",
    "if num1 > num2: \n",
    "    print(\"Num1 is greater than num2\")#always use indentation for conditional\n",
    "elif num2 > num1: \n",
    "    print(\"Num2 is greater than num1\")\n",
    "else: \n",
    "    print(\"Both are equal\")\n",
    "    \n",
    "if 1 : \n",
    "    print(\"Statement if in block\")#non zero value consider true\n",
    "else:\n",
    "    print(\"Statement in else block\")"
   ]
  },
  {
   "cell_type": "markdown",
   "metadata": {},
   "source": [
    "### Loops in python\n"
   ]
  },
  {
   "cell_type": "markdown",
   "metadata": {},
   "source": [
    "1.For loop \n",
    "syntax : \n",
    "\n",
    "for [variable_name] in [iterable data]:\n",
    "    statements\n",
    "    \n",
    " iterable datatypes : \n",
    " str list tuple dict set"
   ]
  },
  {
   "cell_type": "code",
   "execution_count": 21,
   "metadata": {},
   "outputs": [
    {
     "name": "stdout",
     "output_type": "stream",
     "text": [
      "10\n",
      "30\n",
      "60\n",
      "100\n",
      "150\n"
     ]
    }
   ],
   "source": [
    "l = [10, 20, 30, 40, 50]\n",
    "\n",
    "\n",
    "sum = 0 \n",
    "for value in l : \n",
    "    sum = sum + value \n",
    "    \n",
    "    print(sum)\n",
    "    \n"
   ]
  },
  {
   "cell_type": "markdown",
   "metadata": {},
   "source": [
    "use range for specific range of numbers\n",
    "\n",
    "range(5)\n",
    "range(10,100)\n",
    "range(10,100,5)"
   ]
  },
  {
   "cell_type": "code",
   "execution_count": 22,
   "metadata": {},
   "outputs": [
    {
     "name": "stdout",
     "output_type": "stream",
     "text": [
      "0\n",
      "1\n",
      "2\n",
      "3\n",
      "4\n"
     ]
    }
   ],
   "source": [
    "for value in range(5):\n",
    "    print(value)"
   ]
  },
  {
   "cell_type": "code",
   "execution_count": 23,
   "metadata": {},
   "outputs": [
    {
     "name": "stdout",
     "output_type": "stream",
     "text": [
      "10\n",
      "11\n",
      "12\n",
      "13\n",
      "14\n",
      "15\n",
      "16\n",
      "17\n",
      "18\n",
      "19\n"
     ]
    }
   ],
   "source": [
    "for value in range(10,20):\n",
    "    print(value)"
   ]
  },
  {
   "cell_type": "markdown",
   "metadata": {},
   "source": [
    "### break, continue, enumerate"
   ]
  },
  {
   "cell_type": "code",
   "execution_count": 24,
   "metadata": {},
   "outputs": [
    {
     "name": "stdout",
     "output_type": "stream",
     "text": [
      "Element not found\n"
     ]
    }
   ],
   "source": [
    "#syntax\n",
    "# for value in range(10):\n",
    "#     print(value)\n",
    "\n",
    "l = [10,20,30,40,50,60]\n",
    "key = 400 #compare the key for every element if not continue, if yes stop\n",
    "\n",
    "for value in l:\n",
    "    if value == key:\n",
    "        print(\"Element found\") \n",
    "        break\n",
    "    else:\n",
    "        continue # for the next iteration\n",
    "else:\n",
    "    print(\"Element not found\")"
   ]
  },
  {
   "cell_type": "code",
   "execution_count": 25,
   "metadata": {},
   "outputs": [
    {
     "name": "stdout",
     "output_type": "stream",
     "text": [
      "Element found at index 3\n"
     ]
    }
   ],
   "source": [
    "l = [10,20,30,40,50,60]\n",
    "key = 40\n",
    "\n",
    "for index,value in enumerate(l):\n",
    "    #print (index, value)\n",
    "    if value == key:\n",
    "        print(\"Element found at index\", index) \n",
    "        break\n",
    "    else:\n",
    "        continue # for the next iteration\n",
    "        print(\"Statement after continue statement\")\n",
    "else:\n",
    "    print(\"Element not found\")\n",
    "        "
   ]
  },
  {
   "cell_type": "code",
   "execution_count": 26,
   "metadata": {},
   "outputs": [
    {
     "name": "stdout",
     "output_type": "stream",
     "text": [
      "Element found at index 3\n"
     ]
    }
   ],
   "source": [
    "#pass\n",
    "for index,value in enumerate(l):\n",
    "    #print (index, value)\n",
    "    if value == key:\n",
    "        print(\"Element found at index\", index) \n",
    "        break\n",
    "    else:\n",
    "        pass\n",
    "else:\n",
    "    print(\"Element not found\")"
   ]
  },
  {
   "cell_type": "markdown",
   "metadata": {},
   "source": [
    "### while loop"
   ]
  },
  {
   "cell_type": "code",
   "execution_count": 27,
   "metadata": {},
   "outputs": [
    {
     "name": "stdout",
     "output_type": "stream",
     "text": [
      "210\n"
     ]
    }
   ],
   "source": [
    "#syntax\n",
    "#while [condition]:\n",
    "#    [statements]\n",
    "#else:\n",
    "    \n",
    "count = 1 \n",
    "sum = 0\n",
    "\n",
    "while count <= 20:\n",
    "    sum = sum + count\n",
    "    count = count+1\n",
    "    \n",
    "print(sum)"
   ]
  },
  {
   "cell_type": "markdown",
   "metadata": {},
   "source": [
    "###   QUiz  "
   ]
  },
  {
   "cell_type": "markdown",
   "metadata": {},
   "source": [
    "1.write a python program to find those numbers which arw divisible by 7 and 5 between 1500 and 2700 (both included)"
   ]
  },
  {
   "cell_type": "code",
   "execution_count": 28,
   "metadata": {},
   "outputs": [
    {
     "name": "stdout",
     "output_type": "stream",
     "text": [
      "1505\n",
      "1512\n",
      "1519\n",
      "1526\n",
      "1533\n",
      "1540\n",
      "1547\n",
      "1554\n",
      "1561\n",
      "1568\n",
      "1575\n",
      "1582\n",
      "1589\n",
      "1596\n",
      "1603\n",
      "1610\n",
      "1617\n",
      "1624\n",
      "1631\n",
      "1638\n",
      "1645\n",
      "1652\n",
      "1659\n",
      "1666\n",
      "1673\n",
      "1680\n",
      "1687\n",
      "1694\n",
      "1701\n",
      "1708\n",
      "1715\n",
      "1722\n",
      "1729\n",
      "1736\n",
      "1743\n",
      "1750\n",
      "1757\n",
      "1764\n",
      "1771\n",
      "1778\n",
      "1785\n",
      "1792\n",
      "1799\n",
      "1806\n",
      "1813\n",
      "1820\n",
      "1827\n",
      "1834\n",
      "1841\n",
      "1848\n",
      "1855\n",
      "1862\n",
      "1869\n",
      "1876\n",
      "1883\n",
      "1890\n",
      "1897\n",
      "1904\n",
      "1911\n",
      "1918\n",
      "1925\n",
      "1932\n",
      "1939\n",
      "1946\n",
      "1953\n",
      "1960\n",
      "1967\n",
      "1974\n",
      "1981\n",
      "1988\n",
      "1995\n",
      "2002\n",
      "2009\n",
      "2016\n",
      "2023\n",
      "2030\n",
      "2037\n",
      "2044\n",
      "2051\n",
      "2058\n",
      "2065\n",
      "2072\n",
      "2079\n",
      "2086\n",
      "2093\n",
      "2100\n",
      "2107\n",
      "2114\n",
      "2121\n",
      "2128\n",
      "2135\n",
      "2142\n",
      "2149\n",
      "2156\n",
      "2163\n",
      "2170\n",
      "2177\n",
      "2184\n",
      "2191\n",
      "2198\n",
      "2205\n",
      "2212\n",
      "2219\n",
      "2226\n",
      "2233\n",
      "2240\n",
      "2247\n",
      "2254\n",
      "2261\n",
      "2268\n",
      "2275\n",
      "2282\n",
      "2289\n",
      "2296\n",
      "2303\n",
      "2310\n",
      "2317\n",
      "2324\n",
      "2331\n",
      "2338\n",
      "2345\n",
      "2352\n",
      "2359\n",
      "2366\n",
      "2373\n",
      "2380\n",
      "2387\n",
      "2394\n",
      "2401\n",
      "2408\n",
      "2415\n",
      "2422\n",
      "2429\n",
      "2436\n",
      "2443\n",
      "2450\n",
      "2457\n",
      "2464\n",
      "2471\n",
      "2478\n",
      "2485\n",
      "2492\n",
      "2499\n",
      "2506\n",
      "2513\n",
      "2520\n",
      "2527\n",
      "2534\n",
      "2541\n",
      "2548\n",
      "2555\n",
      "2562\n",
      "2569\n",
      "2576\n",
      "2583\n",
      "2590\n",
      "2597\n",
      "2604\n",
      "2611\n",
      "2618\n",
      "2625\n",
      "2632\n",
      "2639\n",
      "2646\n",
      "2653\n",
      "2660\n",
      "2667\n",
      "2674\n",
      "2681\n",
      "2688\n",
      "2695\n"
     ]
    }
   ],
   "source": [
    "for number in range(1500,2701):\n",
    "    if number % 7 == 0 & number % 5 == 0:\n",
    "        print(number)"
   ]
  },
  {
   "cell_type": "markdown",
   "metadata": {},
   "source": [
    "2. Write a python program to count the number of even and odd numbers from a a series if numbers \n",
    "sample \n",
    "\n",
    "numbers = (1,2,3,4,5,6,7,8,9)\n",
    "even : 5\n",
    "odd : 4"
   ]
  },
  {
   "cell_type": "code",
   "execution_count": 29,
   "metadata": {},
   "outputs": [
    {
     "name": "stdout",
     "output_type": "stream",
     "text": [
      "Number of even number :  5\n",
      "Number of even number :  4\n"
     ]
    }
   ],
   "source": [
    "numbers = [1,2,3,4,5,6,7,8,9]\n",
    "odd = 0\n",
    "even = 0 \n",
    "for i in numbers :\n",
    "    if (i % 2 == 0):\n",
    "        odd = odd + 1\n",
    "    else:\n",
    "        even = even + 1\n",
    "print(\"Number of even number : \",  even)\n",
    "print(\"Number of even number : \",  odd)\n",
    "        "
   ]
  },
  {
   "cell_type": "markdown",
   "metadata": {},
   "source": [
    "3. Writes a python program which iterates the integers from 1 to 50,\n",
    "For multiples of three print \"Fizz\" instead ot he number and for the multiples of five print Buzz. For numbers which are multipels of both three and five print \"FizzBuzz\""
   ]
  },
  {
   "cell_type": "code",
   "execution_count": 30,
   "metadata": {},
   "outputs": [
    {
     "name": "stdout",
     "output_type": "stream",
     "text": [
      "Fizz\n",
      "Fizzbuzz\n",
      "Fizz\n",
      "Fizz\n",
      "Fizzbuzz\n",
      "Fizz\n",
      "Fizzbuzz\n",
      "Fizz\n",
      "Fizzbuzz\n",
      "Fizz\n",
      "Fizz\n",
      "Fizzbuzz\n",
      "Fizz\n",
      "Fizzbuzz\n",
      "Fizz\n",
      "Fizzbuzz\n",
      "Fizz\n",
      "Fizz\n",
      "Fizzbuzz\n",
      "Fizz\n",
      "Fizzbuzz\n",
      "Fizz\n",
      "Fizzbuzz\n"
     ]
    }
   ],
   "source": [
    "for num in range(1,51):\n",
    "    if (num % 5==0 & num % 3 == 0):\n",
    "        print(\"Fizzbuzz\")\n",
    "    elif (num % 5==0):\n",
    "        print(\"Buzz\")\n",
    "    elif (num % 3 == 0):\n",
    "        print(\"Fizz\")\n",
    "    \n",
    "    \n"
   ]
  },
  {
   "cell_type": "markdown",
   "metadata": {},
   "source": [
    "3. Write a python program to calculate the sum and average of n integer numbers:\n"
   ]
  },
  {
   "cell_type": "code",
   "execution_count": 31,
   "metadata": {},
   "outputs": [
    {
     "name": "stdout",
     "output_type": "stream",
     "text": [
      "4950\n",
      "100\n",
      "49.5\n"
     ]
    }
   ],
   "source": [
    "sum = 0\n",
    "average=0\n",
    "\n",
    "for i in range (1,100):\n",
    "    sum = sum + i \n",
    "    i +=1\n",
    "print(sum)\n",
    "print(i)\n",
    "\n",
    "average = sum/i\n",
    "\n",
    "print(average)\n",
    "    "
   ]
  },
  {
   "cell_type": "markdown",
   "metadata": {},
   "source": [
    "5. Factorial of any number n is represented by n! and is equal to 1*2*3*(n-1)*n\n",
    "\n",
    "E.g:\n",
    "    4! = 4*3*2*1\n",
    "    \n",
    "    1!=1\n",
    "    0! = 0\n",
    "    "
   ]
  },
  {
   "cell_type": "code",
   "execution_count": 65,
   "metadata": {},
   "outputs": [
    {
     "name": "stdout",
     "output_type": "stream",
     "text": [
      "0\n",
      "1\n"
     ]
    }
   ],
   "source": [
    "n = int(input())\n",
    "i = 1\n",
    "factorial = 1\n",
    "\n",
    "for i in range (1, n + 1): \n",
    "    if (n == 1): \n",
    "        factorial = 1\n",
    "    else:\n",
    "        factorial = factorial * i \n",
    "\n",
    "print(factorial)    "
   ]
  },
  {
   "cell_type": "markdown",
   "metadata": {},
   "source": [
    "### String"
   ]
  },
  {
   "cell_type": "markdown",
   "metadata": {},
   "source": [
    "#s = ' ',\" \",\"\"\" \"\"\"\n",
    "strings are immutabel"
   ]
  },
  {
   "cell_type": "code",
   "execution_count": 67,
   "metadata": {},
   "outputs": [
    {
     "name": "stdout",
     "output_type": "stream",
     "text": [
      "<class 'str'>\n"
     ]
    }
   ],
   "source": [
    "s = \"Python sampe string\"\n",
    "print(type(s))"
   ]
  },
  {
   "cell_type": "code",
   "execution_count": null,
   "metadata": {},
   "outputs": [],
   "source": []
  }
 ],
 "metadata": {
  "kernelspec": {
   "display_name": "Python 3",
   "language": "python",
   "name": "python3"
  },
  "language_info": {
   "codemirror_mode": {
    "name": "ipython",
    "version": 3
   },
   "file_extension": ".py",
   "mimetype": "text/x-python",
   "name": "python",
   "nbconvert_exporter": "python",
   "pygments_lexer": "ipython3",
   "version": "3.6.5"
  }
 },
 "nbformat": 4,
 "nbformat_minor": 4
}
